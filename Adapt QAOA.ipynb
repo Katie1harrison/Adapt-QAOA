{
 "cells": [
  {
   "cell_type": "code",
   "execution_count": 41,
   "id": "124616d1-455e-4c07-b7a8-0c32d2c5b322",
   "metadata": {},
   "outputs": [],
   "source": [
    "import qiskit as qt\n",
    "import numpy as np\n",
    "from qiskit import Aer\n",
    "import networkx as nx\n",
    "\n",
    "from qiskit import QuantumCircuit\n",
    "from qiskit.circuit import ParameterVector\n",
    "\n",
    "\n",
    "from qiskit.opflow import PauliExpectation, CircuitSampler, StateFn, CircuitStateFn\n",
    "from qiskit.utils import QuantumInstance\n"
   ]
  },
  {
   "cell_type": "markdown",
   "id": "c9810ca7-2fa0-4fe9-9190-ce1e4d28fe52",
   "metadata": {},
   "source": [
    "## ADAPT QAOA (proposed in [Zhu et al](https://journals.aps.org/prresearch/pdf/10.1103/PhysRevResearch.4.033029))\n",
    "\n",
    "Instead of having the same mixer operator for all layers, we choose the mixers from a pool of operators P = $\\{A_j\\}_{j\\in Q}$. The algorithm proceeds as follows:\n",
    "1. Start initially with $|\\psi_0\\rangle = |0^{\\otimes n}\\rangle$\n",
    "2. To choose the (n+1)-th layer of QAOA, we first take create the state, $|\\tilde{\\psi}_n\\rangle = \\exp(-i\\gamma_0 H_C)|\\psi_n\\rangle$, where $\\gamma_0$ is a fixed number ($\\gamma_0 = 0.01$ in the paper).\n",
    "3. We compute the derivative of cost hamiltonian expectation value of this state for each operator in the pool. The j-th derivative is given by,\n",
    "$$\n",
    "-i \\langle \\tilde{\\psi}_n| [H_C,A_j] | \\tilde{\\psi}_n\\rangle\n",
    "$$\n",
    "4. If norm of the total gradient is below some chosen threshold **tol**, we stop the algorithm\n",
    "5. Otherwise, we choose the operator corresponding to the largest component of the gradient as the next mixer layer and create the state,\n",
    "$$\n",
    "|\\psi_{n+1}\\rangle = \\exp(-i\\beta_{n+1}A_j)\\exp(-i\\gamma_{n+1} H_C)|\\psi_{n}\\rangle\n",
    "$$\n",
    "6. We optimize all the 2(n+1) parameters to minimize the cost hamiltonian\n",
    "7. Go back to step 2"
   ]
  },
  {
   "cell_type": "markdown",
   "id": "dfd175c8-faa8-4605-97a4-2453ad29d4a0",
   "metadata": {},
   "source": [
    "## Functions for QUBO evaluation\n",
    "\n",
    "1. **qubo()** --> To get value of qubo function corresponding to an input state of binary variables\n",
    "2. **compute_expectation()** --> Gets expectation value of qubo/cost hamiltonian from quantum measurement counts\n",
    "3. **get_expectation_QAOA()** --> Gets count data from qiskit backend and calculates expectation value of qubo using compute_expectation(). This is the function getting minimized during optimization."
   ]
  },
  {
   "cell_type": "code",
   "execution_count": 42,
   "id": "5f69804b-e83d-487d-baf3-7bf37bf9713f",
   "metadata": {},
   "outputs": [],
   "source": [
    "def qubo(qubo,state):\n",
    "    \"\"\"\n",
    "    Returns value of qubo function corresponding to input state\n",
    "    Args:\n",
    "        qubo: QUBO object corresponding to the problem\n",
    "        state: string denoting the state on which qubo is being evaluated\n",
    "        \n",
    "    Returns:\n",
    "         Qubo function value for the state   \n",
    "    \n",
    "    \"\"\"\n",
    "    def bin2ising(bin_var):\n",
    "        if int(bin_var) == 0:\n",
    "            return 1\n",
    "        else:\n",
    "            return -1\n",
    "    \n",
    "    y = 0 \n",
    "    for index, term in enumerate(qubo.terms):\n",
    "        if len(term) == 1:\n",
    "            y += bin2ising(state[term[0]]) * qubo.weights[index]\n",
    "        \n",
    "        elif len(term) == 2:\n",
    "            y+= bin2ising(state[term[0]]) * bin2ising(state[term[1]]) * qubo.weights[index]\n",
    "        \n",
    "    return y\n",
    "\n",
    "\n",
    "def compute_expectation(qubo_prob,counts,shots):\n",
    "    \"\"\"\n",
    "    Calculates expectation value of a QUBO problem corresponding to circuit measurement\n",
    "    Args:\n",
    "        qubo_prob: QUBO object corresponding to the problem \n",
    "        counts: Dictionary of counts from qiskit measurement\n",
    "        shots: total shots used for measurement\n",
    "        \n",
    "    Return:\n",
    "        Expectation value of the QUBO for given measurement\n",
    "    \n",
    "    \"\"\"\n",
    "    exp = 0\n",
    "    for state in counts:\n",
    "        p = counts[state]/shots\n",
    "        y = qubo(qubo_prob,state)\n",
    "        exp += p * y\n",
    "    return exp\n",
    "\n",
    "from qiskit.compiler import transpile\n",
    "def get_expectation_QAOA(theta_val,qubo_prob, qc, parameter, shots=1024):\n",
    "    \"\"\"\n",
    "    Computes expectation of QUBO function corresponding to given QAOA params\n",
    "    \n",
    "    Args:\n",
    "        param: parameters gamma's and beta's. First p values correspond to gamma parameters,\n",
    "               last p values correspond to beta parameters\n",
    "        shots: No. of shots used in measurement\n",
    "    \n",
    "    Returns:\n",
    "        Expectation value of QUBO fucntion for the given QAOA params\n",
    "        \n",
    "    \"\"\"\n",
    "\n",
    "    qc_bind = qc.bind_parameters({parameter: theta_val})\n",
    "    backend = Aer.get_backend('aer_simulator')\n",
    "\n",
    "    qc_bind1 = transpile(qc_bind, backend=backend, seed_transpiler=11)\n",
    "    qc_bind1.measure_all()\n",
    "\n",
    "    counts = backend.run(qc_bind1, seed_simulator=10,\n",
    "                         shots=shots).result().get_counts()\n",
    "\n",
    "    return compute_expectation(qubo_prob,counts,shots)"
   ]
  },
  {
   "cell_type": "markdown",
   "id": "3828099a-5191-4498-ba6d-d992d5d05e7e",
   "metadata": {},
   "source": [
    "## QAOA Cost Hamiltonian, Mixer Functions\n",
    "\n",
    "1. **qaoa_hamil()** --> Adds the cost unitary to the circuit\n",
    "2. **qaoa_mixer()** --> Adds the mixer unitary to the circuit\n",
    "3. **qaoa_circuit_add()** --> Adds both the cost and mixer unitary by using both the previous functions\n"
   ]
  },
  {
   "cell_type": "code",
   "execution_count": 43,
   "id": "95db7f90-1671-4669-a10d-19fbb572b960",
   "metadata": {},
   "outputs": [],
   "source": [
    "def qaoa_hamil(qc,qubits, qubo, gamma):\n",
    "    \"\"\"\n",
    "    Creates a cost hamiltonian based on qubo\n",
    "    \n",
    "    Args:\n",
    "        qc: QuantumCircuit on which cost hamiltonian is applied\n",
    "        qubits: No. of qubits in circuit\n",
    "        qubo: QUBO object corresponding to the problem\n",
    "        gamma: Optimization parameter corresponding to cost hamiltonian for the layer\n",
    "    \"\"\"\n",
    "    \n",
    "    ising = qubo.terms\n",
    "    weights = qubo.weights\n",
    "    \n",
    "\n",
    "    for index,term in enumerate(ising):\n",
    "        if len(term)==1:\n",
    "            qc.rz(2*gamma*weights[index],term[0])\n",
    "            \n",
    "        elif len(term)==2:\n",
    "            qc.rzz(2*gamma*weights[index],term[0],term[1])\n",
    "    \n",
    "\n",
    "\n",
    "from qiskit.extensions import HamiltonianGate,UnitaryGate\n",
    "def qaoa_mixer(qc,qubits,mixer,beta):\n",
    "    \"\"\"\n",
    "    Creates a mixer hamiltonian based on chosen mixer\n",
    "    \n",
    "    Args:\n",
    "        qc: QuantumCircuit on which mixer hamiltonian is applied\n",
    "        qubits: No. of qubits in circuit\n",
    "        mixer: mixer operator for the layer\n",
    "        beta: Optimization parameter corresponding to mixer hamiltonian for the layer\n",
    "    \"\"\"\n",
    "    qc.append(HamiltonianGate(mixer, beta),range(qubits))\n",
    "\n",
    "\n",
    "\n",
    "def qaoa_circuit_add(qc,qubits,qubo,mixer,theta):\n",
    "    \"\"\"\n",
    "    Adds both cost and mixer hamiltonian for the layer\n",
    "    \n",
    "    Args:\n",
    "        qc: QuantumCircuit on which mixer hamiltonian is applied\n",
    "        qubits: No. of qubits in circuit\n",
    "        qubo: QUBO object corresponding to the problem\n",
    "        mixer: mixer operator for the layer\n",
    "        theta: Optimization parameters (gamma,beta) corresponding to mixer hamiltonian for the layer\n",
    "    \"\"\"\n",
    "    \n",
    "    qaoa_hamil(qc,qubits, qubo, theta[-2])\n",
    "    qaoa_mixer(qc,qubits,mixer,theta[-1])\n",
    "    \n"
   ]
  },
  {
   "cell_type": "markdown",
   "id": "dbd88988-cd66-43fd-9739-aa9bb7cc7df2",
   "metadata": {},
   "source": [
    "## Creating operator pool\n",
    "First two function are just used to convert strings to corresponding pauli operators\n",
    "1. **mixer_pool_single()** --> Returns a list of single qubit mixer operators\n",
    "2. **mixer_pool_multi()** --> Returns a list of multi qubit mixer operators"
   ]
  },
  {
   "cell_type": "code",
   "execution_count": 44,
   "id": "b904c608-73b4-43d5-9a91-d890ae845d2d",
   "metadata": {},
   "outputs": [],
   "source": [
    "## Helper functions to convert strings to corresponding Pauli operator\n",
    "\n",
    "from qiskit.opflow import I, X, Y, Z\n",
    "def str2Pauli(op_str):\n",
    "    if op_str == \"X\":\n",
    "        return X\n",
    "    elif op_str == \"Y\":\n",
    "        return Y\n",
    "    elif op_str == \"Z\":\n",
    "        return Z\n",
    "    else:\n",
    "        return I\n",
    "    \n",
    "def str_2_multiop(multiop_str):\n",
    "    A = str2Pauli(multiop_str[0])\n",
    "    for j in range(1,len(multiop_str)):\n",
    "        A = A^str2Pauli(multiop_str[j])\n",
    "    return A\n",
    "    \n",
    "    \n",
    "    \n",
    "def mixer_pool_single(qubits):\n",
    "    \"\"\"\n",
    "    Single qubit operator pool\n",
    "    Args:\n",
    "        qubits: No. of qubits in circuit\n",
    "    Returns:\n",
    "        List of operators for single qubit operator pool\n",
    "    \n",
    "    \"\"\"\n",
    "    pool = []\n",
    "    qaoa_x = []\n",
    "    qaoa_y = []\n",
    "    \n",
    "    for i in range(qubits):\n",
    "        op = ''\n",
    "        for j in range(qubits):\n",
    "            if i!=j:\n",
    "                op = op + \"I\"\n",
    "            else:\n",
    "                op = op + 'X'\n",
    "        pool.append([op])\n",
    "        qaoa_x.append(op)\n",
    "    pool.append(qaoa_x)\n",
    "    \n",
    "    for i in range(qubits):\n",
    "        op = ''\n",
    "        for j in range(qubits):\n",
    "            if i!=j:\n",
    "                op = op + \"I\"\n",
    "            else:\n",
    "                op = op + 'Y'\n",
    "        pool.append([op])\n",
    "        qaoa_y.append(op)\n",
    "    pool.append(qaoa_x)\n",
    "        \n",
    "    pool_ops = []\n",
    "    \n",
    "    for ops in pool:\n",
    "        if len(ops) == 1:\n",
    "            pool_ops.append(str_2_multiop(ops[0]))\n",
    "        else:\n",
    "            pauli_op = str_2_multiop(ops[0])\n",
    "            for i in range(1,len(ops)):\n",
    "                pauli_op += str_2_multiop(ops[i])\n",
    "            pool_ops.append(pauli_op)\n",
    "    return pool_ops\n",
    "\n",
    "def mixer_pool_multi(qubits):\n",
    "    \"\"\"\n",
    "    Gives a multi qubit operator pool\n",
    "    Args:\n",
    "        qubits: No. of qubits in circuit\n",
    "    Returns:\n",
    "        List of operators for multi qubit operator pool\n",
    "    \n",
    "    \"\"\"\n",
    "    paulis = [\"X\",\"Y\",\"Z\"]\n",
    "    \n",
    "    pool = []\n",
    "    for i in range(qubits-1):\n",
    "        for j in range(i+1,qubits):\n",
    "            for pauli_op1 in paulis:\n",
    "                for pauli_op2 in paulis:\n",
    "                    op = 'I'*i + pauli_op1 + 'I'*(j-i-1) +pauli_op2 + 'I'*(qubits-j-1)\n",
    "                    pool.append(op)\n",
    "    \n",
    "    pool_op = []\n",
    "    for op in pool:\n",
    "        pool_op.append(str_2_multiop(op))\n",
    "                    \n",
    "    return pool_op\n"
   ]
  },
  {
   "cell_type": "markdown",
   "id": "e57d697f-1c4b-4b4d-b12d-20bd6c079216",
   "metadata": {},
   "source": [
    "## Evaluating derivative\n",
    "The below functions are used to evaluate derivative for each mixer operator by evaluating the commutator,\n",
    "$$\n",
    "-i \\langle \\tilde{\\psi}_n| [H_C,A_j] | \\tilde{\\psi}_n\\rangle\n",
    "$$"
   ]
  },
  {
   "cell_type": "code",
   "execution_count": 58,
   "id": "d6941921-17bf-414b-8041-72848e9c8f6f",
   "metadata": {},
   "outputs": [],
   "source": [
    "## Helper functions for converting Hamiltonian to Pauli operators\n",
    "def hamil_terms2Pauli(qubits,pos):\n",
    "    A = ''\n",
    "    for i in range(qubits):\n",
    "        if i in pos:\n",
    "            A = A + 'Z'\n",
    "        else:\n",
    "            A = A + 'I'\n",
    "            \n",
    "    return str_2_multiop(A)\n",
    "\n",
    "def hamil_Pauli(qubo,qubits):\n",
    "    ising = qubo.terms\n",
    "    weights = qubo.weights  \n",
    "    \n",
    "    hamil_op = str_2_multiop(\"I\"*qubits)\n",
    "    \n",
    "    for index,term in enumerate(ising):\n",
    "            hamil_op += weights[index] * hamil_terms2Pauli(qubits,term)\n",
    "    \n",
    "    return hamil_op\n",
    "\n",
    "\n",
    "\n",
    "from qiskit import Aer\n",
    "from qiskit.opflow import commutator\n",
    "from qiskit.opflow import PauliOp\n",
    "\n",
    "def derivative(hamil,mixer,qc):\n",
    "    \"\"\"\n",
    "    Evaluates derivative using commutator method\n",
    "    Args:\n",
    "        hamil: Pauli operator form of cost Hamiltonian\n",
    "        mixer: Pauli operator form of mixer operator\n",
    "        qc: QuantumCircuit on which commutator is being evaluated\n",
    "    Returns:\n",
    "        Derivative wrt to mixer operator\n",
    "    \"\"\"\n",
    "    \n",
    "    ## Setting up backend for measurement\n",
    "    backend = Aer.get_backend( 'aer_simulator' )\n",
    "    shots = 1024\n",
    "    qc1 = transpile(qc, backend=backend, seed_transpiler=11)\n",
    "    \n",
    "    ## State after circuit implementation on which commutator will be evaluated\n",
    "    psi = CircuitStateFn(qc1)\n",
    "    \n",
    "    q_instance = QuantumInstance(backend, shots = shots)\n",
    "    \n",
    "    ## Commutator is evaluated\n",
    "    deriv_op = (-1j) * commutator(hamil,mixer)\n",
    "    \n",
    "    ## Expectation value of each term of commutator is evaluated seperately\n",
    "    deriv = 0\n",
    "    \n",
    "    ## Checking if commutator is zero\n",
    "    if type(deriv_op) == PauliOp:\n",
    "        return deriv\n",
    "    \n",
    "    else:\n",
    "        for op in deriv_op:\n",
    "            coefficient = op.coeffs\n",
    "            pauli_str = PauliOp(op.primitive.paulis[0])\n",
    "            \n",
    "            if coefficient != 0 :\n",
    "                measurable_expression = StateFn(pauli_str, is_measurement = True).compose(psi)\n",
    "                expectation = PauliExpectation().convert(measurable_expression)\n",
    "\n",
    "                pauli_eval = CircuitSampler(q_instance).convert(expectation).eval()\n",
    "                deriv += pauli_eval * coefficient\n",
    "\n",
    "        return complex(deriv).real\n",
    "\n"
   ]
  },
  {
   "cell_type": "markdown",
   "id": "6ff31ae3-7c0a-4086-8e39-cfc817d48a02",
   "metadata": {},
   "source": [
    "## Optimization using scipy"
   ]
  },
  {
   "cell_type": "code",
   "execution_count": 48,
   "id": "862b61e5-8b4a-47d4-8660-38c11fe2d0f5",
   "metadata": {},
   "outputs": [],
   "source": [
    "from scipy.optimize import minimize\n",
    "def initialize_param(theta):\n",
    "    \"\"\"\n",
    "    Initializes the theta value by adding addditional random gamma,beta at the end\n",
    "    \n",
    "    \"\"\"\n",
    "    \n",
    "    theta = list(theta)\n",
    "    random_guess_gamma = np.random.uniform(low = 0, high = 2*np.pi)\n",
    "    random_guess_beta = np.random.uniform(low = 0, high = 2*np.pi)\n",
    "    \n",
    "    theta.append(random_guess_gamma)\n",
    "    theta.append(random_guess_beta)    \n",
    "    \n",
    "    return theta\n",
    "    \n",
    "\n",
    "def optimize_params(qubo_prob,circ,parameter,theta_init):\n",
    "    \"\"\"\n",
    "    Optimizes parameters of qaoa using scipy.optimize.minimize\n",
    "    \n",
    "    Args:\n",
    "        qubo_prob: QUBO object corresponding to problem\n",
    "        circ: QuantumCircuit which is being optimized wrt gamma,betas\n",
    "        parameter: ParameterVector for storing optimizing paramaeters in the circuit\n",
    "        theta_init: Variational parameters being optimized in the circuit\n",
    "    Returns:\n",
    "        Optimized parameters and corresponiding minimum qubo function value\n",
    "    \"\"\"\n",
    "    \n",
    "    optimizer = \"COBYLA\"\n",
    "    theta_new = initialize_param(theta_init)\n",
    "    res_adapt_qaoa_min = minimize(get_expectation_QAOA,theta_new,method = optimizer,args = (qubo_prob,circ,parameter))\n",
    "    \n",
    "    minimum = res_adapt_qaoa_min.fun\n",
    "    \n",
    "    ## I ran the algorithm multiple times with random initialization and choose the the one with minimum \n",
    "    ## function value to avoid local minimas. Not sure what's an efficient way of doing this\n",
    "    for _ in range(2):\n",
    "        theta_new = initialize_param(theta_init)\n",
    "        res_adapt_qaoa = minimize(get_expectation_QAOA,theta_new,method = optimizer,args = (qubo_prob,circ,parameter))\n",
    "        \n",
    "        if res_adapt_qaoa.fun < minimum:\n",
    "            res_adapt_qaoa_min = res_adapt_qaoa\n",
    "        \n",
    "    return res_adapt_qaoa_min.x,minimum"
   ]
  },
  {
   "cell_type": "markdown",
   "id": "acd9718d-391f-42c3-9bf3-cadddcfd69dd",
   "metadata": {},
   "source": [
    "## Full Adapt QAOA Function"
   ]
  },
  {
   "cell_type": "code",
   "execution_count": 70,
   "id": "72c14923-eb67-471e-8d0a-bb73b6377606",
   "metadata": {},
   "outputs": [],
   "source": [
    "def adapt_qaoa(qubits,qubo, mixer_pool, tol = 0.015):\n",
    "    \"\"\"\n",
    "    Runs the full adapt QAOA algorithm until gradient norm decreases below tolerance\n",
    "    Args:\n",
    "        qubits: No. of qubits used in circuit\n",
    "        qubo: QUBO object corresponding to the problem\n",
    "        mixer_pool: List of mixers from which optimal mixer is chosen each layer\n",
    "        tol: Tolerance of gradient norm upto which we run the algorithm\n",
    "    Return:\n",
    "        QuantumCircuit with all the mixer layers \n",
    "        ParameterVector for storing optimizing parameters of circuit\n",
    "        List of optimal parameters for the circuit\n",
    "        List of gradient norms for each layer       \n",
    "    \"\"\"\n",
    "    qc = QuantumCircuit(qubits)\n",
    "    qc.h(range(qubits))\n",
    "    \n",
    "    qc.barrier()\n",
    "    p = 0 \n",
    "    theta = []\n",
    "    params_circ = ParameterVector(\"theta\", 2)\n",
    "    \n",
    "    gamma_0 = 0.01\n",
    "    mixers_used = []\n",
    "    gradient_layer = []\n",
    "    while True:\n",
    "        \n",
    "        gradients = []\n",
    "        qubo_min_layer = []\n",
    "        if len(theta)<2:\n",
    "            qc_grad = qc.copy()\n",
    "        else:    \n",
    "            qc_grad = qc.bind_parameters({params_circ: theta})\n",
    "\n",
    "        qaoa_hamil(qc_grad,qubits,qubo,gamma_0)\n",
    "        \n",
    "        \n",
    "        ## Measures gradient wrt to operator pool\n",
    "        for mixer in mixer_pool:\n",
    "            gradients.append(derivative(hamil_Pauli(qubo,qubits),mixer,qc_grad))\n",
    "        \n",
    "        ## Stores scaled gradient norm for each layer\n",
    "        scaled_gradient_norm = np.linalg.norm(gradients)/len(pool)\n",
    "        gradient_layer.append(scaled_gradient_norm)\n",
    "        \n",
    "        \n",
    "        ## If gradient_norm is below tolerance we end the algorithm\n",
    "        ## For large pools we are scaling the tolerance with the size of the pool\n",
    "        if scaled_gradient_norm < tol:\n",
    "            print(f\"QAOA converged with gradient norm = {scaled_gradient_norm}\")\n",
    "            return qc,params_circ,theta\n",
    "        \n",
    "        ## Update QAOA layer number\n",
    "        p+=1\n",
    "        \n",
    "        ##Stores the mixers being used\n",
    "        mixers_used.append(mixer_pool[np.argmax(np.abs(gradients))])\n",
    "        \n",
    "        ## Resize parameter vector to accomodate more variables\n",
    "        params_circ.resize(2*p)\n",
    "        \n",
    "        ## Adds new layer of QAOA\n",
    "        qaoa_circuit_add(qc,qubits,qubo,mixers_used[-1],params_circ)\n",
    "        qc.barrier()\n",
    "        \n",
    "        ## Optimize for the new layer\n",
    "        theta,qubo_min = optimize_params(qubo,qc,params_circ, theta)\n",
    "        \n",
    "        qubo_min_layer.append(qubo_min)\n",
    "        \n",
    "        print(f\"Layer = {p}, Scaled Gradient Norm = {scaled_gradient_norm}, Mixer = {mixers_used[-1]} ,Miminized QUBO = {qubo_min}\")"
   ]
  },
  {
   "cell_type": "markdown",
   "id": "3345b8f1-1880-43cf-9c41-e3160db4059a",
   "metadata": {},
   "source": [
    "## Example problem: MaxCut\n"
   ]
  },
  {
   "cell_type": "code",
   "execution_count": 89,
   "id": "9eb6f5a2-7f8a-49e5-80f8-2fc245f787aa",
   "metadata": {},
   "outputs": [],
   "source": [
    "nodes = 5\n",
    "G = nx.generators.random_regular_graph(n=nodes, d=2, seed=42)\n",
    "for (u, v) in G.edges():\n",
    "    G.edges[u,v]['weight'] = np.random.uniform()\n",
    "    \n",
    "from openqaoa.problems import MaximumCut   \n",
    "maxcut_qubo = MaximumCut(G).qubo"
   ]
  },
  {
   "cell_type": "markdown",
   "id": "2030c7bf-dda9-4f60-a10c-e1673a74b9aa",
   "metadata": {},
   "source": [
    "### Exact Solution"
   ]
  },
  {
   "cell_type": "code",
   "execution_count": 90,
   "id": "050d190e-4e97-486b-b1a2-dbae8a35b9c2",
   "metadata": {},
   "outputs": [
    {
     "name": "stdout",
     "output_type": "stream",
     "text": [
      "Ground State energy: -2.2991871036798592, Solution: ['01110', '10001']\n"
     ]
    }
   ],
   "source": [
    "hamiltonian = maxcut_qubo.hamiltonian\n",
    "\n",
    "# import the brute-force solver to obtain exact solution\n",
    "from openqaoa.utilities import ground_state_hamiltonian\n",
    "energy, configuration = ground_state_hamiltonian(hamiltonian)\n",
    "\n",
    "print(f\"Ground State energy: {energy}, Solution: {configuration}\")"
   ]
  },
  {
   "cell_type": "markdown",
   "id": "40059b7f-eb1f-42ff-8424-67e241172c35",
   "metadata": {},
   "source": [
    " "
   ]
  },
  {
   "cell_type": "markdown",
   "id": "1fdce914-069b-4c4c-9523-fb5630f33539",
   "metadata": {},
   "source": [
    "Solving using the Adapt QAOA method"
   ]
  },
  {
   "cell_type": "code",
   "execution_count": 91,
   "id": "9405a8c2-b15d-445b-8155-2c3cbbb63536",
   "metadata": {},
   "outputs": [
    {
     "name": "stdout",
     "output_type": "stream",
     "text": [
      "Layer = 1, Scaled Gradient Norm = 0.03718205791415013, Mixer = IIYIZ ,Miminized QUBO = -0.18255760866034032\n",
      "Layer = 2, Scaled Gradient Norm = 0.03627966543519053, Mixer = IYIIZ ,Miminized QUBO = -0.6856260809434812\n",
      "Layer = 3, Scaled Gradient Norm = 0.02715046535696942, Mixer = 1.0 * XIIII\n",
      "+ 1.0 * IXIII\n",
      "+ 1.0 * IIXII\n",
      "+ 1.0 * IIIXI\n",
      "+ 1.0 * IIIIX ,Miminized QUBO = -1.5504523688615246\n",
      "Layer = 4, Scaled Gradient Norm = 0.017335013824390528, Mixer = IIIXI ,Miminized QUBO = -1.9449342805996803\n",
      "QAOA converged with gradient norm = 0.011977338829772607\n"
     ]
    }
   ],
   "source": [
    "pool = mixer_pool_single(nodes) + mixer_pool_multi(nodes)\n",
    "\n",
    "qc,parameter,theta = adapt_qaoa(nodes,maxcut_qubo,pool)"
   ]
  },
  {
   "cell_type": "markdown",
   "id": "3475a071-4df9-4bec-99eb-297f36b55e14",
   "metadata": {},
   "source": [
    " "
   ]
  },
  {
   "cell_type": "markdown",
   "id": "e6845ab2-f0d5-47c8-8576-53d06b381e78",
   "metadata": {},
   "source": [
    "Running the optimized circuit to get maximum probable states as solution. For maxcut there will always be two solutions since the nodes within each cut can be labelled either as zero or one"
   ]
  },
  {
   "cell_type": "code",
   "execution_count": 92,
   "id": "cb7faa57-c11f-4f01-85bd-c2692163d184",
   "metadata": {},
   "outputs": [],
   "source": [
    "qc_bind = qc.bind_parameters({parameter:theta})\n",
    "backend = Aer.get_backend('aer_simulator')\n",
    "\n",
    "qc_bind1 = transpile(qc_bind, backend=backend, seed_transpiler=11)\n",
    "qc_bind1.measure_all()\n",
    "\n",
    "counts = backend.run(qc_bind1, seed_simulator=10, shots=1024).result().get_counts()"
   ]
  },
  {
   "cell_type": "code",
   "execution_count": 117,
   "id": "02d14e4c-0109-4e6f-b05b-673ed46e336a",
   "metadata": {},
   "outputs": [
    {
     "name": "stdout",
     "output_type": "stream",
     "text": [
      "Most likely state from Adapt QAOA: {'10001': 0.248046875}\n"
     ]
    }
   ],
   "source": [
    "value_key_pairs = ((value/1024, key) for (key,value) in counts.items())\n",
    "sorted_value_key_pairs = sorted(value_key_pairs, reverse=True)\n",
    "\n",
    "ordered_counts = {k: v for v, k in sorted_value_key_pairs[:1]}\n",
    "print(f\"Most likely state from Adapt QAOA: {ordered_counts}\")\n"
   ]
  },
  {
   "cell_type": "markdown",
   "id": "c2a42cb8-ed82-4c54-aecc-f8ed5f41fa9f",
   "metadata": {},
   "source": [
    "## Comparison with solution from OpenQAOA"
   ]
  },
  {
   "cell_type": "code",
   "execution_count": 108,
   "id": "a44f3ca2-81ce-45aa-8117-9551f29c9abe",
   "metadata": {},
   "outputs": [],
   "source": [
    "from openqaoa.backends import create_device\n",
    "from openqaoa import QAOA\n",
    "\n",
    "q = QAOA()\n",
    "\n",
    "# device\n",
    "device = create_device(location='local', name='qiskit.qasm_simulator')\n",
    "q.set_device(device)\n",
    "\n",
    "# circuit properties\n",
    "q.set_circuit_properties(p=4, param_type='standard', init_type='rand', mixer_hamiltonian='x')\n",
    "\n",
    "\n",
    "q.set_backend_properties(n_shots = 1024)\n",
    "q.set_classical_optimizer(method='COBYLA', maxiter=200, tol=0.001, cost_progress=True, parameter_log=True)\n",
    "\n",
    "q.compile(maxcut_qubo)\n",
    "q.optimize()"
   ]
  },
  {
   "cell_type": "code",
   "execution_count": 109,
   "id": "0796ede5-ae52-4ff8-ba82-66c1b3ffdde6",
   "metadata": {},
   "outputs": [
    {
     "data": {
      "text/plain": [
       "{'solutions_bitstrings': ['10001'], 'bitstring_energy': -2.2991871036798592}"
      ]
     },
     "execution_count": 109,
     "metadata": {},
     "output_type": "execute_result"
    }
   ],
   "source": [
    "q.result.most_probable_states"
   ]
  },
  {
   "cell_type": "code",
   "execution_count": 113,
   "id": "c82852c4-8bd1-47bd-b468-d814cb30522a",
   "metadata": {},
   "outputs": [
    {
     "data": {
      "text/plain": [
       "-1.716265260358"
      ]
     },
     "execution_count": 113,
     "metadata": {},
     "output_type": "execute_result"
    }
   ],
   "source": [
    "q.result.optimized['cost']"
   ]
  },
  {
   "cell_type": "code",
   "execution_count": 116,
   "id": "de704c83-5fe4-41a1-826a-a6d521cdad2f",
   "metadata": {},
   "outputs": [
    {
     "name": "stdout",
     "output_type": "stream",
     "text": [
      "Most probable state from OpenQAOA: {'10001': 0.2373046875}\n"
     ]
    }
   ],
   "source": [
    "counts_qaoa = q.result.optimized['measurement_outcomes']\n",
    "\n",
    "value_key_pairs = ((value/1024, key) for (key,value) in counts_qaoa.items())\n",
    "sorted_value_key_pairs = sorted(value_key_pairs, reverse=True)\n",
    "\n",
    "ordered_counts_qaoa = {k: v for v, k in sorted_value_key_pairs[:1]}\n",
    "print(f\"Most probable state from OpenQAOA: {ordered_counts_qaoa}\")"
   ]
  },
  {
   "cell_type": "code",
   "execution_count": null,
   "id": "3f5b29f8-b4c6-4ae7-9eac-b626800cb349",
   "metadata": {},
   "outputs": [],
   "source": []
  }
 ],
 "metadata": {
  "kernelspec": {
   "display_name": "open-qaoa",
   "language": "python",
   "name": "qaoa"
  },
  "language_info": {
   "codemirror_mode": {
    "name": "ipython",
    "version": 3
   },
   "file_extension": ".py",
   "mimetype": "text/x-python",
   "name": "python",
   "nbconvert_exporter": "python",
   "pygments_lexer": "ipython3",
   "version": "3.8.16"
  }
 },
 "nbformat": 4,
 "nbformat_minor": 5
}
